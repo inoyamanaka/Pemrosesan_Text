{
  "cells": [
    {
      "cell_type": "markdown",
      "metadata": {
        "id": "view-in-github",
        "colab_type": "text"
      },
      "source": [
        "<a href=\"https://colab.research.google.com/github/inoyamanaka/Pemrosesan_Text/blob/main/PemrosesanText_part1.ipynb\" target=\"_parent\"><img src=\"https://colab.research.google.com/assets/colab-badge.svg\" alt=\"Open In Colab\"/></a>"
      ]
    },
    {
      "cell_type": "code",
      "source": [
        "!pip install git+https://github.com/tweepy/tweepy.git"
      ],
      "metadata": {
        "id": "bk_pmeWm2wU2"
      },
      "execution_count": null,
      "outputs": []
    },
    {
      "cell_type": "code",
      "source": [
        "import tweepy"
      ],
      "metadata": {
        "id": "aUZnYbNp2xeO"
      },
      "execution_count": null,
      "outputs": []
    },
    {
      "cell_type": "markdown",
      "metadata": {
        "id": "77K0wqCHkUK1"
      },
      "source": [
        "**KONEKSI API DAN AUTENTIKASI**"
      ]
    },
    {
      "cell_type": "code",
      "execution_count": null,
      "metadata": {
        "colab": {
          "base_uri": "https://localhost:8080/"
        },
        "id": "VFCREDjvkabT",
        "outputId": "5ea79a04-eede-4586-fe90-1bacac6c5cc0"
      },
      "outputs": [
        {
          "output_type": "stream",
          "name": "stdout",
          "text": [
            "sukses\n"
          ]
        }
      ],
      "source": [
        "api_key = \"wjfC7sqEsgkkOtAh3QUDKTTGJ\"\n",
        "api_key_secret = \"TAwEmJ1MhYMgKwJBngh4ZpXnWdNFbdj778fiq6UkLFuLZ5ExKQ\"\n",
        "access_token = \"1198104989102567424-noL01z6l2PvZvtfgwhrebESA3dmwN9\"\n",
        "access_token_secret = \"gFTvVQoIO4J7gZ2yqVf5It6GaZmbtCz61FQphSfVJIHTJ\"\n",
        "\n",
        "auth = tweepy.OAuthHandler(api_key, api_key_secret)\n",
        "auth.set_access_token(access_token, access_token_secret)\n",
        "\n",
        "api = tweepy.API(auth)\n",
        "api.verify_credentials()\n",
        "\n",
        "try :\n",
        "  api.verify_credentials()\n",
        "  print(\"sukses\")\n",
        "except :\n",
        "  print(\"gagal\")"
      ]
    },
    {
      "cell_type": "code",
      "execution_count": null,
      "metadata": {
        "id": "JlyYwsqwpSTV"
      },
      "outputs": [],
      "source": [
        "timeline = api.home_timeline()\n",
        "for tweet in timeline:\n",
        "  print(\"- \"+tweet.text)"
      ]
    },
    {
      "cell_type": "markdown",
      "metadata": {
        "id": "5K0JypWTru60"
      },
      "source": [
        "**MENGAMBIL INFORMASI AKUN**"
      ]
    },
    {
      "cell_type": "code",
      "execution_count": null,
      "metadata": {
        "id": "lwT7d2nqqh8O"
      },
      "outputs": [],
      "source": [
        "user = api.get_user(\"CttanPengembala\")\n",
        "\n",
        "print(f\"Nama : {user.name}\")\n",
        "print(f\"Akun : {user.screen_name}\")\n",
        "print(f\"Lokasi : {user.location}\")\n",
        "print(f\"Deskripsi :{user.description}\")"
      ]
    },
    {
      "cell_type": "code",
      "execution_count": null,
      "metadata": {
        "id": "uCa0y7hgr7VL"
      },
      "outputs": [],
      "source": [
        "# WOEID of New York\n",
        "woeid = 23424846\n",
        "\n",
        "trend = api.trends_place(id = woeid, exclude = \"hashtags\")\n",
        "trend"
      ]
    },
    {
      "cell_type": "code",
      "execution_count": null,
      "metadata": {
        "id": "BdEeDHdJx3WN"
      },
      "outputs": [],
      "source": [
        "for tweet in tweepy.Cursor(api.search_tweets, \"gempa\", count=100).items(150):\n",
        "    print(tweet.id)"
      ]
    },
    {
      "cell_type": "code",
      "execution_count": null,
      "metadata": {
        "id": "WJZQtNcHwCmc"
      },
      "outputs": [],
      "source": [
        "import pandas as pd\n",
        "from google.colab import files\n",
        "\n",
        "\n",
        "search = api.search(q=\"Ghost of Kyiv\", lang=\"en\")\n",
        "df = pd.DataFrame(search)\n",
        "df.to_csv('output.csv')\n",
        "\n",
        "# print(search)\n",
        "print(df.head(4))"
      ]
    },
    {
      "cell_type": "markdown",
      "source": [
        "## Membuat fungsi menghitung jumlah replies"
      ],
      "metadata": {
        "id": "F-HMrUQ3SPl1"
      }
    },
    {
      "cell_type": "code",
      "source": [
        "def get_tweet_thread(username,tweet_id):\n",
        "    replies = tweepy.Cursor(api.search_tweets, q='to:{}'.format(username),since_id=tweet_id, tweet_mode='extended').items()\n",
        "\n",
        "    replied_thread = list()\n",
        "    for reply in replies:\n",
        "        if(reply._json['in_reply_to_status_id'] == tweet_id):\n",
        "          replied_thread.append(reply._json['full_text'])\n",
        "\n",
        "    return(len(replied_thread))"
      ],
      "metadata": {
        "id": "RZxRxT9wQDjI"
      },
      "execution_count": null,
      "outputs": []
    },
    {
      "cell_type": "markdown",
      "source": [
        "## Menyimpan data ke dalam format csv\n"
      ],
      "metadata": {
        "id": "Jn8fTsmeSXKe"
      }
    },
    {
      "cell_type": "code",
      "execution_count": null,
      "metadata": {
        "id": "n5G3iJly2Vf-"
      },
      "outputs": [],
      "source": [
        "# menggunakan cursor/pagination\n",
        "# item = jumlah data yang ingin diambil keseluruhan\n",
        "# count = jumlah maksimal data tiap halaman\n",
        "\n",
        "import time\n",
        "import csv\n",
        "output = []\n",
        "\n",
        "for tweet in tweepy.Cursor(api.search, \"Liverpool\", count=80).items(80):\n",
        "    user = tweet.user.screen_name\n",
        "    tweet_id = tweet.id\n",
        "\n",
        "    tweet_replies = get_tweet_thread(str(user),tweet_id)\n",
        "\n",
        "    # Write header row (feature column names of your choice)\n",
        "    list_output = (f\"{tweet.user.screen_name}|{tweet.text}|{tweet_replies}|{tweet.retweet_count}|{tweet.favorite_count}\")\n",
        "    # Write a row to the CSV file. I use encode UTF-8\n",
        "\n",
        "    output.append(list_output)\n",
        "\n",
        "    if len(output)%85 == 0:\n",
        "      time.sleep(910)"
      ]
    },
    {
      "cell_type": "code",
      "execution_count": null,
      "metadata": {
        "colab": {
          "base_uri": "https://localhost:8080/",
          "height": 49
        },
        "id": "qqYcb7U53SBQ",
        "outputId": "32ba2935-6b08-4d41-ec9e-5ea1b09e6009"
      },
      "outputs": [
        {
          "data": {
            "text/html": [
              "\n",
              "  <div id=\"df-9792eab4-afcf-40d9-88e4-5365cc1fe2aa\">\n",
              "    <div class=\"colab-df-container\">\n",
              "      <div>\n",
              "<style scoped>\n",
              "    .dataframe tbody tr th:only-of-type {\n",
              "        vertical-align: middle;\n",
              "    }\n",
              "\n",
              "    .dataframe tbody tr th {\n",
              "        vertical-align: top;\n",
              "    }\n",
              "\n",
              "    .dataframe thead th {\n",
              "        text-align: right;\n",
              "    }\n",
              "</style>\n",
              "<table border=\"1\" class=\"dataframe\">\n",
              "  <thead>\n",
              "    <tr style=\"text-align: right;\">\n",
              "      <th></th>\n",
              "    </tr>\n",
              "  </thead>\n",
              "  <tbody>\n",
              "  </tbody>\n",
              "</table>\n",
              "</div>\n",
              "      <button class=\"colab-df-convert\" onclick=\"convertToInteractive('df-9792eab4-afcf-40d9-88e4-5365cc1fe2aa')\"\n",
              "              title=\"Convert this dataframe to an interactive table.\"\n",
              "              style=\"display:none;\">\n",
              "        \n",
              "  <svg xmlns=\"http://www.w3.org/2000/svg\" height=\"24px\"viewBox=\"0 0 24 24\"\n",
              "       width=\"24px\">\n",
              "    <path d=\"M0 0h24v24H0V0z\" fill=\"none\"/>\n",
              "    <path d=\"M18.56 5.44l.94 2.06.94-2.06 2.06-.94-2.06-.94-.94-2.06-.94 2.06-2.06.94zm-11 1L8.5 8.5l.94-2.06 2.06-.94-2.06-.94L8.5 2.5l-.94 2.06-2.06.94zm10 10l.94 2.06.94-2.06 2.06-.94-2.06-.94-.94-2.06-.94 2.06-2.06.94z\"/><path d=\"M17.41 7.96l-1.37-1.37c-.4-.4-.92-.59-1.43-.59-.52 0-1.04.2-1.43.59L10.3 9.45l-7.72 7.72c-.78.78-.78 2.05 0 2.83L4 21.41c.39.39.9.59 1.41.59.51 0 1.02-.2 1.41-.59l7.78-7.78 2.81-2.81c.8-.78.8-2.07 0-2.86zM5.41 20L4 18.59l7.72-7.72 1.47 1.35L5.41 20z\"/>\n",
              "  </svg>\n",
              "      </button>\n",
              "      \n",
              "  <style>\n",
              "    .colab-df-container {\n",
              "      display:flex;\n",
              "      flex-wrap:wrap;\n",
              "      gap: 12px;\n",
              "    }\n",
              "\n",
              "    .colab-df-convert {\n",
              "      background-color: #E8F0FE;\n",
              "      border: none;\n",
              "      border-radius: 50%;\n",
              "      cursor: pointer;\n",
              "      display: none;\n",
              "      fill: #1967D2;\n",
              "      height: 32px;\n",
              "      padding: 0 0 0 0;\n",
              "      width: 32px;\n",
              "    }\n",
              "\n",
              "    .colab-df-convert:hover {\n",
              "      background-color: #E2EBFA;\n",
              "      box-shadow: 0px 1px 2px rgba(60, 64, 67, 0.3), 0px 1px 3px 1px rgba(60, 64, 67, 0.15);\n",
              "      fill: #174EA6;\n",
              "    }\n",
              "\n",
              "    [theme=dark] .colab-df-convert {\n",
              "      background-color: #3B4455;\n",
              "      fill: #D2E3FC;\n",
              "    }\n",
              "\n",
              "    [theme=dark] .colab-df-convert:hover {\n",
              "      background-color: #434B5C;\n",
              "      box-shadow: 0px 1px 3px 1px rgba(0, 0, 0, 0.15);\n",
              "      filter: drop-shadow(0px 1px 2px rgba(0, 0, 0, 0.3));\n",
              "      fill: #FFFFFF;\n",
              "    }\n",
              "  </style>\n",
              "\n",
              "      <script>\n",
              "        const buttonEl =\n",
              "          document.querySelector('#df-9792eab4-afcf-40d9-88e4-5365cc1fe2aa button.colab-df-convert');\n",
              "        buttonEl.style.display =\n",
              "          google.colab.kernel.accessAllowed ? 'block' : 'none';\n",
              "\n",
              "        async function convertToInteractive(key) {\n",
              "          const element = document.querySelector('#df-9792eab4-afcf-40d9-88e4-5365cc1fe2aa');\n",
              "          const dataTable =\n",
              "            await google.colab.kernel.invokeFunction('convertToInteractive',\n",
              "                                                     [key], {});\n",
              "          if (!dataTable) return;\n",
              "\n",
              "          const docLinkHtml = 'Like what you see? Visit the ' +\n",
              "            '<a target=\"_blank\" href=https://colab.research.google.com/notebooks/data_table.ipynb>data table notebook</a>'\n",
              "            + ' to learn more about interactive tables.';\n",
              "          element.innerHTML = '';\n",
              "          dataTable['output_type'] = 'display_data';\n",
              "          await google.colab.output.renderOutput(dataTable, element);\n",
              "          const docLink = document.createElement('div');\n",
              "          docLink.innerHTML = docLinkHtml;\n",
              "          element.appendChild(docLink);\n",
              "        }\n",
              "      </script>\n",
              "    </div>\n",
              "  </div>\n",
              "  "
            ],
            "text/plain": [
              "Empty DataFrame\n",
              "Columns: []\n",
              "Index: []"
            ]
          },
          "execution_count": 38,
          "metadata": {},
          "output_type": "execute_result"
        }
      ],
      "source": [
        "import pandas as pd\n",
        "from google.colab import files\n",
        "\n",
        "df = pd.DataFrame(output)\n",
        "df.to_csv('output.csv')\n",
        "# files.download('output.csv')\n",
        "df"
      ]
    }
  ],
  "metadata": {
    "colab": {
      "collapsed_sections": [],
      "name": "PemrosesanText_part1.ipynb",
      "provenance": [],
      "authorship_tag": "ABX9TyNyNrUks3EMxt6Az9RynJvB",
      "include_colab_link": true
    },
    "kernelspec": {
      "display_name": "Python 3",
      "name": "python3"
    },
    "language_info": {
      "name": "python"
    }
  },
  "nbformat": 4,
  "nbformat_minor": 0
}