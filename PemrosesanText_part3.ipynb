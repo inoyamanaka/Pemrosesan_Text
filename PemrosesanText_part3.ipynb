{
  "nbformat": 4,
  "nbformat_minor": 0,
  "metadata": {
    "colab": {
      "name": "PemrosesanText_part2.ipynb",
      "provenance": [],
      "collapsed_sections": [],
      "authorship_tag": "ABX9TyOqa+Xh+xCajlEEVd6Rk3+F",
      "include_colab_link": true
    },
    "kernelspec": {
      "name": "python3",
      "display_name": "Python 3"
    },
    "language_info": {
      "name": "python"
    }
  },
  "cells": [
    {
      "cell_type": "markdown",
      "metadata": {
        "id": "view-in-github",
        "colab_type": "text"
      },
      "source": [
        "<a href=\"https://colab.research.google.com/github/inoyamanaka/Pemrosesan_Text/blob/main/PemrosesanText_part3.ipynb\" target=\"_parent\"><img src=\"https://colab.research.google.com/assets/colab-badge.svg\" alt=\"Open In Colab\"/></a>"
      ]
    },
    {
      "cell_type": "code",
      "execution_count": null,
      "metadata": {
        "id": "-5jRFx-8P3pc"
      },
      "outputs": [],
      "source": [
        "# Menginstall library sastrawi\n",
        "!pip install pysastrawi"
      ]
    },
    {
      "cell_type": "code",
      "source": [
        "# Mengimport library pandas, regex, csv, google collab dan sastrawi\n",
        "import pandas as pd\n",
        "import re\n",
        "import csv\n",
        "\n",
        "from google.colab import files\n",
        "from Sastrawi.StopWordRemover.StopWordRemoverFactory import StopWordRemoverFactory\n",
        "from Sastrawi.StopWordRemover.StopWordRemoverFactory import StopWordRemoverFactory, StopWordRemover, ArrayDictionary"
      ],
      "metadata": {
        "id": "jLBU7fsZom_K"
      },
      "execution_count": 5,
      "outputs": []
    },
    {
      "cell_type": "code",
      "source": [
        "# Membaca data csv menggunakan pandas\n",
        "df = pd.read_csv(\"output (39).csv\",header=None,sep='|',on_bad_lines='skip',names=[\"Screen_name\",\"Text\",\"Replies\",\"Retweet\",\"Likes\"])\n",
        "\n",
        "# Menghilangkan data yang terdapat NaN atau Missing Value pada attributenya\n",
        "df = df.dropna()"
      ],
      "metadata": {
        "id": "sCGQxTldQjmn"
      },
      "execution_count": 3,
      "outputs": []
    },
    {
      "cell_type": "code",
      "source": [
        "# Menampilkan dataframe dengan jumlah baris atau datanya adalah 500\n",
        "df = df.head(500)"
      ],
      "metadata": {
        "id": "Zz2fx4ti-Xma"
      },
      "execution_count": 4,
      "outputs": []
    },
    {
      "cell_type": "code",
      "source": [
        "# kamus normalisasi\n",
        "norm = {'pgn':'ingin','rb':'ribu','lsng':'langsung','skrg':'sekarang','py':'punya',\n",
        "        'klo':'kalau','yg':'yang','mao':'mau','ky':'kaya','msk':'masuk','tp':'tapi',\n",
        "        'tdk':'tidak','dlm':'dalam','sy':'saya','tsb':'tersebut',' n ':'dan','sik':'sih',\n",
        "        'cm':'cuma','sbnrnya':'sebenarnya','lg':'lagi','bhkn':'bahkan','jg':'juga',\n",
        "        'dgn':'dengan','ntr':'nanti','bg':'bagi','mtr':'motor','adlh':'adalah','utu':'utuh',\n",
        "        'ww':'perang dunia','feb':'februari','pyur':'murni','dtg':'datang','tu':'itu','bbrp':'beberapa',\n",
        "        'bgt':'banget','dh':'sudah','pke':'pake','pertempuran':'peperangan','afghanistan h':'afghanistan',\n",
        "        'digunak':'digunakan','infr':'infantri','mene':'kedepan','opmil':'operasi militer',\n",
        "        'menerobos':'memasuki','otw':'menuju','dmn':'dimana','met':'selamat','arma':'armada'}\n",
        "\n",
        "# daftar stopword\n",
        "stop_factory = StopWordRemoverFactory()\n",
        "\n",
        "# object untuk menghapus stopword\n",
        "stop_remover = stop_factory.create_stop_word_remover()\n",
        "\n",
        "# daftar kata yang ditambahkan ke stopword\n",
        "more_stop_words = ['yogya','canggih','rt','rusia','russia','afghanistan','amerika','uni','soviet','irian','barat','perancis',\n",
        "                   'putin','ukraina','swedia','kiev','dibelarusia','uka','lanud','husein','tudm','iwan','fals','afgha','usa',\n",
        "                   'yaqutsov','mamarika','jerman','cnn','indonesia','vietnam','kharkiv','india','israel','malaysia','nato',\n",
        "                   'nge','dit','indo','turki','pakistan','habibie','as','kherson','by','lviv','ind','eu','su','pr','polandia',\n",
        "                   'rrc','bulgaria','slov','eropa','cina','taiwan','soeharto','itb','prancis','turkey','kepa','dipolandia','an',\n",
        "                   'bulagiaria','via']\n",
        "stop_words = StopWordRemoverFactory().get_stop_words()\n",
        "new_stop_words = stop_words + more_stop_words\n",
        "new_array = ArrayDictionary(new_stop_words)\n",
        "stop_words_remover_new = StopWordRemover(new_array)\n",
        "\n",
        "\n",
        "def preprocess(str_text):\n",
        "  # 1. Casefolding - mengubah ke case yang sama semua (misal huruf kecil semua)\n",
        "  str_text = str_text.lower()\n",
        "  # 2. Hapus mention (@..) - menggunakan regular expression\n",
        "  str_text = re.sub(r'@[\\w]+',' ',str_text)\n",
        "  # 3. Hapus hashtag (#..) - menggunakan regular expression\n",
        "  str_text = re.sub(r'#[\\w]+',' ',str_text)\n",
        "  # Langkah 2 dan 3 bisa digabung dengan kode re: r'[@|#][\\w]+'\n",
        "  # 4. Hapus URL\n",
        "  str_text = re.sub(r'http\\S+',' ',str_text)\n",
        "  # 5. Hapus non-printable chars, tanda baca, angka (alias hapus selain huruf)\n",
        "  str_text = re.sub(r'[^a-zA-Z]+',' ',str_text)\n",
        "  # 6. Normalisasi kata (membuat penulisan menjadi standar)\n",
        "  # ----- caranya menggunakan kamus normalisasi yang sudah dibuat\n",
        "  for a in norm:\n",
        "    str_text = str_text.replace(a,norm[a])\n",
        "  # 7. Menghapus kata-kata tertentu menggunakan stemming\n",
        "  str_text = stop_words_remover_new.remove(str_text)\n",
        "\n",
        "  return str_text\n",
        "\n",
        "# Membuat kolom baru dengan nama Text_clean\n",
        "df['Text_clean'] = df['Text'].apply(lambda x: preprocess(x))\n",
        "\n",
        "# Mengubah ke bentuk integer pada kolom replies dan retweet\n",
        "df['Replies'] = df['Replies'].astype('int')\n",
        "df['Retweet'] = df['Retweet'].astype('int')\n",
        "\n",
        "# Menampilkan dataframe dengan jumlah baris atau datanya adalah 500\n",
        "df.head(500)"
      ],
      "metadata": {
        "id": "WjwdCcMoAZCx"
      },
      "execution_count": null,
      "outputs": []
    },
    {
      "cell_type": "code",
      "source": [
        "# saving as a CSV file\n",
        "df.to_csv('file_name.csv',sep='|',columns=[\"Screen_name\",\"Text\",\"Text_clean\",\"Replies\",\"Retweet\",\"Likes\"],index=False) "
      ],
      "metadata": {
        "id": "opZ_xCN3NnoK"
      },
      "execution_count": null,
      "outputs": []
    },
    {
      "cell_type": "code",
      "source": [
        "# Membaca data csv yang sebelumnya telah disave\n",
        "dfs = pd.read_csv(\"Students.csv\",header=None,sep='|',on_bad_lines='skip',names=[\"Screen_name\",\"Text\",\"Replies\",\"Retweet\",\"Likes\",\"Text Clean\"])"
      ],
      "metadata": {
        "id": "HXlzH7AuSFFq"
      },
      "execution_count": null,
      "outputs": []
    },
    {
      "cell_type": "code",
      "source": [
        "# Menampilkan dataframe dengan jumlah baris atau datanya adalah 500\n",
        "dfs.head(500)"
      ],
      "metadata": {
        "id": "EwGz58XgVxsS"
      },
      "execution_count": null,
      "outputs": []
    },
    {
      "cell_type": "code",
      "source": [
        "# 1) [a-zA-Z]+\n",
        "# [a-zA-Z] : digunakan untuk memfilter huruf kapital dari A-Z dan huruf non-kapital dari a-z\n",
        "#    +     : digunakan untuk merangkai huruf menjadi berbentuk kata dan akan mengabaikan karakter lain selain yang diperintahkan\n",
        "\n",
        "# Sehingga maksud dari regex di atas adalah mencocokan karakter yang awalanya terdapat pada a-z, A-Z dan menggabungkan karakter tersebut sehingga terbentuk kata\n",
        "\n",
        "text = \"Hujan turun di jogja\"\n",
        "x = re.findall(r\"[a-zA-Z]+\", text)\n",
        "print(x)"
      ],
      "metadata": {
        "colab": {
          "base_uri": "https://localhost:8080/"
        },
        "id": "fkiEUYhR87d9",
        "outputId": "a4451d59-daf2-43f5-fe58-857a0803ad7a"
      },
      "execution_count": 6,
      "outputs": [
        {
          "output_type": "stream",
          "name": "stdout",
          "text": [
            "['Hujan', 'turun', 'di', 'jogja']\n"
          ]
        }
      ]
    },
    {
      "cell_type": "code",
      "source": [
        "# 2) [A-Z][a-z]*\n",
        "# [A-Z] : digunakan untuk memfilter huruf-huruf kapital dari A sampai Z\n",
        "# [a-z] : digunakan untuk memfilter huruf-huruf non-kapital dari a sampai z\n",
        "#   *   : digunakan untuk merangkai huruf-huruf menjadi berbentuk kata dan akan menggangap karakter lain selain yang diperintahkan sebagai null\n",
        "\n",
        "# Sehingga maksud dari regex di atas adalah mencocokan huruf yang awalanya kapital dari A-Z dan huruf keduanya adalah non-kapital\n",
        "# kemudian huruf-huruf selanjutnya akan dirangkai sampai berjumpa spasi atau berbeda kata\n",
        "\n",
        "text2 = \"Hujan turun di jogja\"\n",
        "x = re.findall(r\"[A-Z][a-z]*\", text2)\n",
        "print(x)"
      ],
      "metadata": {
        "colab": {
          "base_uri": "https://localhost:8080/"
        },
        "id": "gyDNxSG0RoXv",
        "outputId": "84c05b7d-82eb-4104-8d15-a37d92aa6bf6"
      },
      "execution_count": 5,
      "outputs": [
        {
          "output_type": "stream",
          "name": "stdout",
          "text": [
            "['Hujan']\n"
          ]
        }
      ]
    },
    {
      "cell_type": "code",
      "source": [
        "# 3) p[aeiou]{,2}t\n",
        "#    p    : digunakan untuk memfilter huruf p (non-kapital)\n",
        "# [aiueo] : digunakan untuk memfilter suku kata (a,i,u,e,o)\n",
        "#   {,2}  : digunakan untuk memfilter 0-2 karakter (3 karakter)\n",
        "#    t    : digunakan untuk memfilter huruf t (non-kapital)\n",
        "\n",
        "# Sehingga maksud dari regex di atas adalah mencocokan kata yang awalanya memiliki huruf p kemudian memiliki suku kata aiueo dan diakhiri huruf t kemudian sisanya akan diabaikan\n",
        "\n",
        "text3 = \"pepohonan itu sangatlah rindang ya patrick\"\n",
        "x = re.findall(r\"p[aeiou]{,2}t\", text3)\n",
        "print(x)"
      ],
      "metadata": {
        "colab": {
          "base_uri": "https://localhost:8080/"
        },
        "id": "SXGqeFU9RpXO",
        "outputId": "799760fe-7e64-4f08-c290-b5163e6b7f64"
      },
      "execution_count": 43,
      "outputs": [
        {
          "output_type": "stream",
          "name": "stdout",
          "text": [
            "['pat']\n"
          ]
        }
      ]
    },
    {
      "cell_type": "code",
      "source": [
        "# 4) \\d+(.\\d+)?\n",
        "#  \\d  : digunakan untuk memfilter digit (angka) dari 0 sampai 9\n",
        "#  +   : digunakan untuk merangkai huruf menjadi berbentuk kata dan mengabaikan karakter selain yang diperintahkan\n",
        "#  ()  : digunakan untuk mengelompokan karakter yang ada di dalam tanda kurung\n",
        "#  .   : digunakan untuk memfilter semua karakter kecuali line terminator (enter)\n",
        "#  ?   : digunakan untuk memfilter karakter sebelumnya dalam bentuk 0 dan 1 yang artinya hanya akan membaca 1 karakter saja\n",
        "\n",
        "# Sehingga maksud dari regex di atas adalah mencocokan yang awalanya memiliki angka karakter angka lagi dan akan dirangkai jadi satu\n",
        "\n",
        "text4 = \"5t898\"\n",
        "x = re.findall(r\"\\d+(.\\d+)?\", text4)\n",
        "print(x)"
      ],
      "metadata": {
        "colab": {
          "base_uri": "https://localhost:8080/"
        },
        "id": "GVrFL321RpfN",
        "outputId": "e54010f5-1dd3-40bf-a903-c68548a2d34a"
      },
      "execution_count": 49,
      "outputs": [
        {
          "output_type": "stream",
          "name": "stdout",
          "text": [
            "['t898']\n"
          ]
        }
      ]
    },
    {
      "cell_type": "code",
      "source": [
        "# 5) ([^aeiou][aeiou][^aeiou])*\n",
        "#   ()     : digunakan untuk mengelompokan karakter yang ada di dalam tanda kurung\n",
        "# [^aeiou] : digunakan untuk memfilter karakter selain a,i,u,e,o\n",
        "# [aeiou]  : digunakan untuk memfilter suku kata (a,i,u,e,o)\n",
        "#    *     : digunakan untuk merangkai huruf-huruf menjadi berbentuk kata dan akan menggangap karakter lain selain yang diperintahkan sebagai null\n",
        "\n",
        "# Sehingga maksud dari regex di atas adalah akan mencocokan yang pada awalanya memiliki huruf selain a,i,u,e,o kemudian huruf keduanya adalah antara a,i,u,e,o \n",
        "# dan huruf ketiganya adalah bukan a,i,u,e,o\n",
        "\n",
        "text5 = \"Hujan turun di jogja\"\n",
        "x = re.findall(r\"([^aiueo][aiueo][^aiueo])*\", text5)\n",
        "print(x)"
      ],
      "metadata": {
        "colab": {
          "base_uri": "https://localhost:8080/"
        },
        "id": "EBmqTO1oRpne",
        "outputId": "2183c914-fae0-462d-f072-8f4638d79c2a"
      },
      "execution_count": 47,
      "outputs": [
        {
          "output_type": "stream",
          "name": "stdout",
          "text": [
            "['Huj', '', '', '', 'tur', '', '', '', 'jog', '', '', '']\n"
          ]
        }
      ]
    },
    {
      "cell_type": "code",
      "source": [
        "# 6) \\w+|[^\\w\\s]+\n",
        "# \\w : digunakan untuk memfilter karakter a-z, A-Z dan 0-9\n",
        "# +  : digunakan untuk merangkai huruf menjadi berbentuk kata dan mengabaikan karakter selain yang diperintahkan\n",
        "# |  : digunakan sebagai operator OR\n",
        "# \\s : digunakan untuk memfilter karakter-karakter whitespace seperti \\r, \\n, \\t, \\f, \\v \n",
        "\n",
        "# Sehingga maksud dari regex di atas adalah mencocokan kata yang awalanya adalah a-z,A-Z dan 0-9 atau yang bukan merupakan a-z,A-Z,0=9 dan bukan karakter whitespace\n",
        "text6 = \"Hujan turun di jogja pada pukul 9 pagi\"\n",
        "x = re.findall(r\"\\w+|[^\\w\\s]+\", text6)\n",
        "print(x)"
      ],
      "metadata": {
        "colab": {
          "base_uri": "https://localhost:8080/"
        },
        "id": "gGcYrn4aRpxW",
        "outputId": "0e5444fb-2aac-4b50-f4c0-c4553163503d"
      },
      "execution_count": 48,
      "outputs": [
        {
          "output_type": "stream",
          "name": "stdout",
          "text": [
            "['Hujan', 'turun', 'di', 'jogja', 'pada', 'pukul', '9', 'pagi']\n"
          ]
        }
      ]
    }
  ]
}