{
  "nbformat": 4,
  "nbformat_minor": 0,
  "metadata": {
    "colab": {
      "name": "PemrosesanText_part2.ipynb",
      "provenance": [],
      "authorship_tag": "ABX9TyNeTkyxkX3oByAdD2emaEPR",
      "include_colab_link": true
    },
    "kernelspec": {
      "name": "python3",
      "display_name": "Python 3"
    },
    "language_info": {
      "name": "python"
    }
  },
  "cells": [
    {
      "cell_type": "markdown",
      "metadata": {
        "id": "view-in-github",
        "colab_type": "text"
      },
      "source": [
        "<a href=\"https://colab.research.google.com/github/inoyamanaka/Pemrosesan_Text/blob/main/PemrosesanText_part2.ipynb\" target=\"_parent\"><img src=\"https://colab.research.google.com/assets/colab-badge.svg\" alt=\"Open In Colab\"/></a>"
      ]
    },
    {
      "cell_type": "code",
      "execution_count": null,
      "metadata": {
        "id": "-5jRFx-8P3pc"
      },
      "outputs": [],
      "source": [
        "import pandas as pd"
      ]
    },
    {
      "cell_type": "code",
      "source": [
        "df = pd.read_csv(\"output (39).csv\",header=None,sep='|',on_bad_lines='skip',names=[\"Screen_name\",\"Text\",\"Replies\",\"Retweet\",\"Likes\"])\n",
        "df = df.dropna()"
      ],
      "metadata": {
        "id": "sCGQxTldQjmn"
      },
      "execution_count": null,
      "outputs": []
    },
    {
      "cell_type": "code",
      "source": [
        "df = df.head(500)"
      ],
      "metadata": {
        "id": "Zz2fx4ti-Xma"
      },
      "execution_count": null,
      "outputs": []
    },
    {
      "cell_type": "code",
      "source": [
        "# regular expression, testing bisa di regex101.com\n",
        "import re\n",
        "\n",
        "# kamus normalisasi\n",
        "\n",
        "norm = {'pgn':'ingin','rb':'ribu','lsng':'langsung',\n",
        "        'klo':'kalau','yg':'yang','mao':'mau','ky':'kaya','msk':'masuk',\n",
        "        'tdk':'tidak','dlm':'dalam','sy':'saya','tsb':'tersebut',' n ':'dan',\n",
        "        'cm':'cuma','sbnrnya':'sebenarnya','lg':'lagi','bhkn':'bahkan','jg':'juga',\n",
        "        'dgn':'dengan','ntr':'nanti','bg':'bagi','mtr':'motor','adlh':'adalah',\n",
        "        'ww':'perang dunia','feb':'februari','pyur':'murni','dtg':'datang',\n",
        "        'bgt':'banget','dh':'sudah','pke':'pake','pertempuran':'peperangan','afghanistan h':'afghanistan',\n",
        "        'tudm':' Tentera Udara Diraja Malaysia','digunak':'digunakan','infr':'infantri','mene':'kedepan',\n",
        "        'menerobos':'memasuki'}\n",
        "\n",
        "# daftar kata yang dihapus\n",
        "hapus = ['rt']\n",
        "\n",
        "def preprocess(str_text):\n",
        "  # 1. Casefolding - mengubah ke case yang sama semua (misal huruf kecil semua)\n",
        "  str_text = str_text.lower()\n",
        "  # 2. Hapus mention (@..) - menggunakan regular expression\n",
        "  str_text = re.sub(r'@[\\w]+',' ',str_text)\n",
        "  # 3. Hapus hashtag (#..) - menggunakan regular expression\n",
        "  str_text = re.sub(r'#[\\w]+',' ',str_text)\n",
        "  # Langkah 2 dan 3 bisa digabung dengan kode re: r'[@|#][\\w]+'\n",
        "  # 4. Hapus URL\n",
        "  str_text = re.sub(r'http\\S+',' ',str_text)\n",
        "  # 5. Hapus non-printable chars, tanda baca, angka (alias hapus selain huruf)\n",
        "  str_text = re.sub(r'[^a-zA-Z]+',' ',str_text)\n",
        "  # 6. Normalisasi kata (membuat penulisan menjadi standar)\n",
        "  # ----- caranya menggunakan kamus normalisasi yang sudah dibuat\n",
        "  for a in norm:\n",
        "    str_text = str_text.replace(a,norm[a])\n",
        "  # 7. Menghapus kata-kata tertentu (sesuai konteks)\n",
        "  for a in hapus:\n",
        "    str_text = str_text.replace(a,\"\")\n",
        "  return str_text\n",
        "\n",
        "df['Text_clean'] = df['Text'].apply(lambda x: preprocess(x))\n",
        "\n",
        "# Mengubah ke bentuk integer pada kolom replies dan retweet\n",
        "df['Replies'] = df['Replies'].astype('int')\n",
        "df['Retweet'] = df['Retweet'].astype('int')\n",
        "df.head(500)"
      ],
      "metadata": {
        "id": "WjwdCcMoAZCx"
      },
      "execution_count": null,
      "outputs": []
    },
    {
      "cell_type": "code",
      "source": [
        "from google.colab import files\n",
        "import csv\n",
        "\n",
        "# saving as a CSV file\n",
        "df.to_csv('file_name.csv',sep='|',columns=[\"Screen_name\",\"Text\",\"Text_clean\",\"Replies\",\"Retweet\",\"Likes\"],index=False)\n",
        " "
      ],
      "metadata": {
        "id": "opZ_xCN3NnoK"
      },
      "execution_count": null,
      "outputs": []
    },
    {
      "cell_type": "code",
      "source": [
        "dfs = pd.read_csv(\"Students.csv\",header=None,sep='|',on_bad_lines='skip',names=[\"Screen_name\",\"Text\",\"Replies\",\"Retweet\",\"Likes\",\"Text Clean\"])"
      ],
      "metadata": {
        "id": "HXlzH7AuSFFq"
      },
      "execution_count": null,
      "outputs": []
    },
    {
      "cell_type": "code",
      "source": [
        "dfs"
      ],
      "metadata": {
        "id": "EwGz58XgVxsS"
      },
      "execution_count": null,
      "outputs": []
    }
  ]
}